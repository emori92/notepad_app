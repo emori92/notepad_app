{
 "cells": [
  {
   "cell_type": "markdown",
   "metadata": {},
   "source": [
    "# 推薦システム\n",
    "- このファイルは、ユーザーに合わせて好みの単語帳を予測し、各ユーザーへ推薦を行うためのモジュールです。\n",
    "- 推薦アルゴリズムは「協調フィルタリング」を利用し、Surpriseライブラリを利用します。\n",
    "- 余裕があれば、Google Analytics、Google Optimizeを利用し、機械学習モデルのABテストを行います。\n",
    "\n",
    "## 手順\n",
    "1. 各種ライブラリのimport\n",
    "2. DBの接続\n",
    "3. userテーブル取得\n",
    "4. wordbookテーブル取得\n",
    "5. 評価値行列の作成\n",
    "6. 次元削減 (NMF)\n",
    "7. 推薦アルゴリズムの作成 (ユーザーベース協調フィルタリング)\n",
    "8. 6、7のモデル評価\n",
    "9. 推薦モデルをpickleでオブジェクト化し、Djangoに組み込む\n",
    "\n",
    "※ 一般的に3~6を「前処理」、7~8は「機械学習」と呼びます。"
   ]
  },
  {
   "cell_type": "markdown",
   "metadata": {},
   "source": [
    "### 1. 各種ライブラリのimport"
   ]
  },
  {
   "cell_type": "code",
   "execution_count": 1,
   "metadata": {},
   "outputs": [],
   "source": [
    "import os\n",
    "import sqlite3\n",
    "import psycopg2\n",
    "import pickle\n",
    "# recommender\n",
    "import numpy as np\n",
    "from scipy.spatial.distance import cosine\n",
    "import pandas as pd\n",
    "from sklearn.decomposition import PCA, NMF"
   ]
  },
  {
   "cell_type": "code",
   "execution_count": 5,
   "metadata": {},
   "outputs": [
    {
     "output_type": "execute_result",
     "data": {
      "text/plain": "[1, 2, 3, 4, 5]"
     },
     "metadata": {},
     "execution_count": 5
    }
   ],
   "source": [
    "l = list(range(1, 6))\n",
    "\n",
    "d = pd.DataFrame(l)\n",
    "\n",
    "list(d[0])"
   ]
  },
  {
   "cell_type": "markdown",
   "metadata": {},
   "source": [
    "### 2. DBの接続"
   ]
  },
  {
   "cell_type": "code",
   "execution_count": 2,
   "metadata": {},
   "outputs": [],
   "source": [
    "# working directory path\n",
    "working_dir = os.path.abspath('__file__')\n",
    "\n",
    "# project directory path\n",
    "project_dir = os.path.dirname \\\n",
    "    (os.path.dirname(os.path.dirname(working_dir)))\n",
    "\n",
    "# db path\n",
    "db_path = os.path.join(project_dir, 'db.sqlite3')\n",
    "\n",
    "# connect db\n",
    "if 'db.sqlite3' in os.listdir(project_dir):\n",
    "    con = sqlite3.connect(db_path)  # sqlite3\n",
    "else:\n",
    "    con = psycopg2.connect(dbname='wordbook')  # PostgreSQL"
   ]
  },
  {
   "cell_type": "markdown",
   "metadata": {},
   "source": [
    "### 3. userテーブル取得"
   ]
  },
  {
   "cell_type": "code",
   "execution_count": 3,
   "metadata": {},
   "outputs": [
    {
     "output_type": "execute_result",
     "data": {
      "text/plain": "(7, 5)"
     },
     "metadata": {},
     "execution_count": 3
    }
   ],
   "source": [
    "# user\n",
    "q_user = '''\n",
    "SELECT\n",
    "    id\n",
    "    , username\n",
    "    , describe\n",
    "    , date_joined\n",
    "    , last_login\n",
    "FROM\n",
    "    user AS u\n",
    "'''\n",
    "\n",
    "# user DataFrame\n",
    "user = pd.read_sql(q_user, con)\n",
    "\n",
    "user.shape"
   ]
  },
  {
   "cell_type": "markdown",
   "metadata": {},
   "source": [
    "### 4. wordbookテーブル取得"
   ]
  },
  {
   "cell_type": "code",
   "execution_count": 4,
   "metadata": {},
   "outputs": [
    {
     "output_type": "execute_result",
     "data": {
      "text/plain": "(19, 7)"
     },
     "metadata": {},
     "execution_count": 4
    }
   ],
   "source": [
    "# wordbook\n",
    "q_wordbook = '''\n",
    "SELECT\n",
    "    *\n",
    "FROM\n",
    "    note AS n\n",
    "'''\n",
    "\n",
    "# wordbook DataFrame\n",
    "wordbook = pd.read_sql(q_wordbook, con)\n",
    "\n",
    "wordbook.shape"
   ]
  },
  {
   "cell_type": "markdown",
   "metadata": {},
   "source": [
    "### 5. 評価値行列の作成"
   ]
  },
  {
   "cell_type": "code",
   "execution_count": 5,
   "metadata": {},
   "outputs": [
    {
     "output_type": "execute_result",
     "data": {
      "text/plain": "                title\n0              Django\n1              Django\n2              Django\n3              Django\n4                test\n5                hoge\n6               vim基礎\n7               vim基礎\n8              SQLite\n9              SQLite\n10        VScode 拡張機能\n11        VScode 拡張機能\n12      JavaScirpt 基礎\n13      JavaScirpt 基礎\n14        VScode コマンド\n15        VScode コマンド\n16        VScode コマンド\n17        VScode コマンド\n18              test2\n19          shel\bl 基礎\n20  マーケティング 入門（ちきりん\b）\n21          推薦システム　入門",
      "text/html": "<div>\n<style scoped>\n    .dataframe tbody tr th:only-of-type {\n        vertical-align: middle;\n    }\n\n    .dataframe tbody tr th {\n        vertical-align: top;\n    }\n\n    .dataframe thead th {\n        text-align: right;\n    }\n</style>\n<table border=\"1\" class=\"dataframe\">\n  <thead>\n    <tr style=\"text-align: right;\">\n      <th></th>\n      <th>title</th>\n    </tr>\n  </thead>\n  <tbody>\n    <tr>\n      <th>0</th>\n      <td>Django</td>\n    </tr>\n    <tr>\n      <th>1</th>\n      <td>Django</td>\n    </tr>\n    <tr>\n      <th>2</th>\n      <td>Django</td>\n    </tr>\n    <tr>\n      <th>3</th>\n      <td>Django</td>\n    </tr>\n    <tr>\n      <th>4</th>\n      <td>test</td>\n    </tr>\n    <tr>\n      <th>5</th>\n      <td>hoge</td>\n    </tr>\n    <tr>\n      <th>6</th>\n      <td>vim基礎</td>\n    </tr>\n    <tr>\n      <th>7</th>\n      <td>vim基礎</td>\n    </tr>\n    <tr>\n      <th>8</th>\n      <td>SQLite</td>\n    </tr>\n    <tr>\n      <th>9</th>\n      <td>SQLite</td>\n    </tr>\n    <tr>\n      <th>10</th>\n      <td>VScode 拡張機能</td>\n    </tr>\n    <tr>\n      <th>11</th>\n      <td>VScode 拡張機能</td>\n    </tr>\n    <tr>\n      <th>12</th>\n      <td>JavaScirpt 基礎</td>\n    </tr>\n    <tr>\n      <th>13</th>\n      <td>JavaScirpt 基礎</td>\n    </tr>\n    <tr>\n      <th>14</th>\n      <td>VScode コマンド</td>\n    </tr>\n    <tr>\n      <th>15</th>\n      <td>VScode コマンド</td>\n    </tr>\n    <tr>\n      <th>16</th>\n      <td>VScode コマンド</td>\n    </tr>\n    <tr>\n      <th>17</th>\n      <td>VScode コマンド</td>\n    </tr>\n    <tr>\n      <th>18</th>\n      <td>test2</td>\n    </tr>\n    <tr>\n      <th>19</th>\n      <td>shel\bl 基礎</td>\n    </tr>\n    <tr>\n      <th>20</th>\n      <td>マーケティング 入門（ちきりん\b）</td>\n    </tr>\n    <tr>\n      <th>21</th>\n      <td>推薦システム　入門</td>\n    </tr>\n  </tbody>\n</table>\n</div>"
     },
     "metadata": {},
     "execution_count": 5
    }
   ],
   "source": [
    "# rating matrix\n",
    "U = '''\n",
    "SELECT\n",
    "    u.username\n",
    "FROM\n",
    "    user AS u\n",
    "    INNER JOIN (\n",
    "        SELECT\n",
    "            *\n",
    "        FROM\n",
    "            star AS s\n",
    "            INNER JOIN\n",
    "                note AS n\n",
    "                ON s.note_id == n.id\n",
    "        ) AS s\n",
    "        ON u.id == s.user_id\n",
    ";\n",
    "\n",
    "'''\n",
    "\n",
    "V = '''\n",
    "SELECT\n",
    "    n.title\n",
    "FROM\n",
    "    note AS n\n",
    "    INNER JOIN\n",
    "        star AS s\n",
    "        ON n.id == s.note_id\n",
    ";\n",
    "\n",
    "'''\n",
    "\n",
    "# index and column of rating matrix\n",
    "index = user['username']\n",
    "columns = wordbook['title']\n",
    "\n",
    "# rating matrix DataFrame\n",
    "# R = pd.read_sql(rating_matrix, con, index=index, columns=columns)\n",
    "\n",
    "pd.read_sql(U, con)\n",
    "pd.read_sql(V, con)\n",
    "# df"
   ]
  },
  {
   "cell_type": "code",
   "execution_count": 8,
   "metadata": {},
   "outputs": [
    {
     "output_type": "execute_result",
     "data": {
      "text/plain": "title     Django  test  hoge  asdf  vim基礎  SQLite  VScode 拡張機能  JavaScirpt 基礎  \\\nusername                                                                        \nadmin          0     0     0     0      0       0            0              0   \ntest           0     0     1     0      0       0            1              1   \nhoge           0     1     1     1      1       0            1              0   \ntest2          0     0     0     0      0       0            1              1   \ntest3          0     0     0     0      0       0            0              0   \nてすと            0     0     0     0      0       0            0              1   \nてすてす           0     1     0     0      0       0            0              0   \n\ntitle     VScode コマンド  AWS  test3  test2  Python  shel\bl 基礎  \\\nusername                                                      \nadmin               0    0      1      1       0          0   \ntest                0    0      1      0       1          1   \nhoge                0    0      1      0       0          0   \ntest2               1    1      0      0       0          0   \ntest3               0    0      1      1       0          1   \nてすと                 0    0      0      0       1          0   \nてすてす                0    0      0      0       1          0   \n\ntitle     マーケティング 入門（ちきりん\b）  推薦システム　入門  Mac ショートカット  Git 基礎 (Mac)  マーケティング 入門  \nusername                                                                       \nadmin                     1          0            1             0           1  \ntest                      0          0            1             0           0  \nhoge                      0          0            1             0           0  \ntest2                     0          0            0             0           0  \ntest3                     0          0            1             0           0  \nてすと                       0          0            0             0           0  \nてすてす                      0          0            1             0           0  ",
      "text/html": "<div>\n<style scoped>\n    .dataframe tbody tr th:only-of-type {\n        vertical-align: middle;\n    }\n\n    .dataframe tbody tr th {\n        vertical-align: top;\n    }\n\n    .dataframe thead th {\n        text-align: right;\n    }\n</style>\n<table border=\"1\" class=\"dataframe\">\n  <thead>\n    <tr style=\"text-align: right;\">\n      <th>title</th>\n      <th>Django</th>\n      <th>test</th>\n      <th>hoge</th>\n      <th>asdf</th>\n      <th>vim基礎</th>\n      <th>SQLite</th>\n      <th>VScode 拡張機能</th>\n      <th>JavaScirpt 基礎</th>\n      <th>VScode コマンド</th>\n      <th>AWS</th>\n      <th>test3</th>\n      <th>test2</th>\n      <th>Python</th>\n      <th>shel\bl 基礎</th>\n      <th>マーケティング 入門（ちきりん\b）</th>\n      <th>推薦システム　入門</th>\n      <th>Mac ショートカット</th>\n      <th>Git 基礎 (Mac)</th>\n      <th>マーケティング 入門</th>\n    </tr>\n    <tr>\n      <th>username</th>\n      <th></th>\n      <th></th>\n      <th></th>\n      <th></th>\n      <th></th>\n      <th></th>\n      <th></th>\n      <th></th>\n      <th></th>\n      <th></th>\n      <th></th>\n      <th></th>\n      <th></th>\n      <th></th>\n      <th></th>\n      <th></th>\n      <th></th>\n      <th></th>\n      <th></th>\n    </tr>\n  </thead>\n  <tbody>\n    <tr>\n      <th>admin</th>\n      <td>0</td>\n      <td>0</td>\n      <td>0</td>\n      <td>0</td>\n      <td>0</td>\n      <td>0</td>\n      <td>0</td>\n      <td>0</td>\n      <td>0</td>\n      <td>0</td>\n      <td>1</td>\n      <td>1</td>\n      <td>0</td>\n      <td>0</td>\n      <td>1</td>\n      <td>0</td>\n      <td>1</td>\n      <td>0</td>\n      <td>1</td>\n    </tr>\n    <tr>\n      <th>test</th>\n      <td>0</td>\n      <td>0</td>\n      <td>1</td>\n      <td>0</td>\n      <td>0</td>\n      <td>0</td>\n      <td>1</td>\n      <td>1</td>\n      <td>0</td>\n      <td>0</td>\n      <td>1</td>\n      <td>0</td>\n      <td>1</td>\n      <td>1</td>\n      <td>0</td>\n      <td>0</td>\n      <td>1</td>\n      <td>0</td>\n      <td>0</td>\n    </tr>\n    <tr>\n      <th>hoge</th>\n      <td>0</td>\n      <td>1</td>\n      <td>1</td>\n      <td>1</td>\n      <td>1</td>\n      <td>0</td>\n      <td>1</td>\n      <td>0</td>\n      <td>0</td>\n      <td>0</td>\n      <td>1</td>\n      <td>0</td>\n      <td>0</td>\n      <td>0</td>\n      <td>0</td>\n      <td>0</td>\n      <td>1</td>\n      <td>0</td>\n      <td>0</td>\n    </tr>\n    <tr>\n      <th>test2</th>\n      <td>0</td>\n      <td>0</td>\n      <td>0</td>\n      <td>0</td>\n      <td>0</td>\n      <td>0</td>\n      <td>1</td>\n      <td>1</td>\n      <td>1</td>\n      <td>1</td>\n      <td>0</td>\n      <td>0</td>\n      <td>0</td>\n      <td>0</td>\n      <td>0</td>\n      <td>0</td>\n      <td>0</td>\n      <td>0</td>\n      <td>0</td>\n    </tr>\n    <tr>\n      <th>test3</th>\n      <td>0</td>\n      <td>0</td>\n      <td>0</td>\n      <td>0</td>\n      <td>0</td>\n      <td>0</td>\n      <td>0</td>\n      <td>0</td>\n      <td>0</td>\n      <td>0</td>\n      <td>1</td>\n      <td>1</td>\n      <td>0</td>\n      <td>1</td>\n      <td>0</td>\n      <td>0</td>\n      <td>1</td>\n      <td>0</td>\n      <td>0</td>\n    </tr>\n    <tr>\n      <th>てすと</th>\n      <td>0</td>\n      <td>0</td>\n      <td>0</td>\n      <td>0</td>\n      <td>0</td>\n      <td>0</td>\n      <td>0</td>\n      <td>1</td>\n      <td>0</td>\n      <td>0</td>\n      <td>0</td>\n      <td>0</td>\n      <td>1</td>\n      <td>0</td>\n      <td>0</td>\n      <td>0</td>\n      <td>0</td>\n      <td>0</td>\n      <td>0</td>\n    </tr>\n    <tr>\n      <th>てすてす</th>\n      <td>0</td>\n      <td>1</td>\n      <td>0</td>\n      <td>0</td>\n      <td>0</td>\n      <td>0</td>\n      <td>0</td>\n      <td>0</td>\n      <td>0</td>\n      <td>0</td>\n      <td>0</td>\n      <td>0</td>\n      <td>1</td>\n      <td>0</td>\n      <td>0</td>\n      <td>0</td>\n      <td>1</td>\n      <td>0</td>\n      <td>0</td>\n    </tr>\n  </tbody>\n</table>\n</div>"
     },
     "metadata": {},
     "execution_count": 8
    }
   ],
   "source": [
    "\"\"\"sample data\"\"\"\n",
    "\n",
    "# matrix dimention parameter\n",
    "user_num = len(user)\n",
    "item_num = len(wordbook)\n",
    "\n",
    "# star probability\n",
    "p = [.8, .2]\n",
    "\n",
    "# create rating matrix function\n",
    "def create_user_vector():\n",
    "    user_vector = np.random.choice(2, item_num, p=p)\n",
    "    return user_vector\n",
    "\n",
    "# create matrix\n",
    "R = []\n",
    "\n",
    "for i in range(user_num):\n",
    "    vector = create_user_vector()\n",
    "    R.append(vector)\n",
    "\n",
    "# DataFrame\n",
    "R = pd.DataFrame(R, index=index, columns=columns)\n",
    "\n",
    "R"
   ]
  },
  {
   "cell_type": "code",
   "execution_count": 12,
   "metadata": {},
   "outputs": [
    {
     "output_type": "execute_result",
     "data": {
      "text/plain": "title  Django      test      hoge      asdf     vim基礎  SQLite  VScode 拡張機能  \\\ncount     7.0  7.000000  7.000000  7.000000  7.000000     7.0     7.000000   \nmean      0.0  0.285714  0.285714  0.142857  0.142857     0.0     0.428571   \nstd       0.0  0.487950  0.487950  0.377964  0.377964     0.0     0.534522   \nmin       0.0  0.000000  0.000000  0.000000  0.000000     0.0     0.000000   \n25%       0.0  0.000000  0.000000  0.000000  0.000000     0.0     0.000000   \n50%       0.0  0.000000  0.000000  0.000000  0.000000     0.0     0.000000   \n75%       0.0  0.500000  0.500000  0.000000  0.000000     0.0     1.000000   \nmax       0.0  1.000000  1.000000  1.000000  1.000000     0.0     1.000000   \n\ntitle  JavaScirpt 基礎  VScode コマンド       AWS     test3     test2    Python  \\\ncount       7.000000     7.000000  7.000000  7.000000  7.000000  7.000000   \nmean        0.428571     0.142857  0.142857  0.571429  0.285714  0.428571   \nstd         0.534522     0.377964  0.377964  0.534522  0.487950  0.534522   \nmin         0.000000     0.000000  0.000000  0.000000  0.000000  0.000000   \n25%         0.000000     0.000000  0.000000  0.000000  0.000000  0.000000   \n50%         0.000000     0.000000  0.000000  1.000000  0.000000  0.000000   \n75%         1.000000     0.000000  0.000000  1.000000  0.500000  1.000000   \nmax         1.000000     1.000000  1.000000  1.000000  1.000000  1.000000   \n\ntitle  shel\bl 基礎  マーケティング 入門（ちきりん\b）  推薦システム　入門  Mac ショートカット  Git 基礎 (Mac)  \\\ncount   7.000000           7.000000        7.0     7.000000           7.0   \nmean    0.285714           0.142857        0.0     0.714286           0.0   \nstd     0.487950           0.377964        0.0     0.487950           0.0   \nmin     0.000000           0.000000        0.0     0.000000           0.0   \n25%     0.000000           0.000000        0.0     0.500000           0.0   \n50%     0.000000           0.000000        0.0     1.000000           0.0   \n75%     0.500000           0.000000        0.0     1.000000           0.0   \nmax     1.000000           1.000000        0.0     1.000000           0.0   \n\ntitle  マーケティング 入門  \ncount    7.000000  \nmean     0.142857  \nstd      0.377964  \nmin      0.000000  \n25%      0.000000  \n50%      0.000000  \n75%      0.000000  \nmax      1.000000  ",
      "text/html": "<div>\n<style scoped>\n    .dataframe tbody tr th:only-of-type {\n        vertical-align: middle;\n    }\n\n    .dataframe tbody tr th {\n        vertical-align: top;\n    }\n\n    .dataframe thead th {\n        text-align: right;\n    }\n</style>\n<table border=\"1\" class=\"dataframe\">\n  <thead>\n    <tr style=\"text-align: right;\">\n      <th>title</th>\n      <th>Django</th>\n      <th>test</th>\n      <th>hoge</th>\n      <th>asdf</th>\n      <th>vim基礎</th>\n      <th>SQLite</th>\n      <th>VScode 拡張機能</th>\n      <th>JavaScirpt 基礎</th>\n      <th>VScode コマンド</th>\n      <th>AWS</th>\n      <th>test3</th>\n      <th>test2</th>\n      <th>Python</th>\n      <th>shel\bl 基礎</th>\n      <th>マーケティング 入門（ちきりん\b）</th>\n      <th>推薦システム　入門</th>\n      <th>Mac ショートカット</th>\n      <th>Git 基礎 (Mac)</th>\n      <th>マーケティング 入門</th>\n    </tr>\n  </thead>\n  <tbody>\n    <tr>\n      <th>count</th>\n      <td>7.0</td>\n      <td>7.000000</td>\n      <td>7.000000</td>\n      <td>7.000000</td>\n      <td>7.000000</td>\n      <td>7.0</td>\n      <td>7.000000</td>\n      <td>7.000000</td>\n      <td>7.000000</td>\n      <td>7.000000</td>\n      <td>7.000000</td>\n      <td>7.000000</td>\n      <td>7.000000</td>\n      <td>7.000000</td>\n      <td>7.000000</td>\n      <td>7.0</td>\n      <td>7.000000</td>\n      <td>7.0</td>\n      <td>7.000000</td>\n    </tr>\n    <tr>\n      <th>mean</th>\n      <td>0.0</td>\n      <td>0.285714</td>\n      <td>0.285714</td>\n      <td>0.142857</td>\n      <td>0.142857</td>\n      <td>0.0</td>\n      <td>0.428571</td>\n      <td>0.428571</td>\n      <td>0.142857</td>\n      <td>0.142857</td>\n      <td>0.571429</td>\n      <td>0.285714</td>\n      <td>0.428571</td>\n      <td>0.285714</td>\n      <td>0.142857</td>\n      <td>0.0</td>\n      <td>0.714286</td>\n      <td>0.0</td>\n      <td>0.142857</td>\n    </tr>\n    <tr>\n      <th>std</th>\n      <td>0.0</td>\n      <td>0.487950</td>\n      <td>0.487950</td>\n      <td>0.377964</td>\n      <td>0.377964</td>\n      <td>0.0</td>\n      <td>0.534522</td>\n      <td>0.534522</td>\n      <td>0.377964</td>\n      <td>0.377964</td>\n      <td>0.534522</td>\n      <td>0.487950</td>\n      <td>0.534522</td>\n      <td>0.487950</td>\n      <td>0.377964</td>\n      <td>0.0</td>\n      <td>0.487950</td>\n      <td>0.0</td>\n      <td>0.377964</td>\n    </tr>\n    <tr>\n      <th>min</th>\n      <td>0.0</td>\n      <td>0.000000</td>\n      <td>0.000000</td>\n      <td>0.000000</td>\n      <td>0.000000</td>\n      <td>0.0</td>\n      <td>0.000000</td>\n      <td>0.000000</td>\n      <td>0.000000</td>\n      <td>0.000000</td>\n      <td>0.000000</td>\n      <td>0.000000</td>\n      <td>0.000000</td>\n      <td>0.000000</td>\n      <td>0.000000</td>\n      <td>0.0</td>\n      <td>0.000000</td>\n      <td>0.0</td>\n      <td>0.000000</td>\n    </tr>\n    <tr>\n      <th>25%</th>\n      <td>0.0</td>\n      <td>0.000000</td>\n      <td>0.000000</td>\n      <td>0.000000</td>\n      <td>0.000000</td>\n      <td>0.0</td>\n      <td>0.000000</td>\n      <td>0.000000</td>\n      <td>0.000000</td>\n      <td>0.000000</td>\n      <td>0.000000</td>\n      <td>0.000000</td>\n      <td>0.000000</td>\n      <td>0.000000</td>\n      <td>0.000000</td>\n      <td>0.0</td>\n      <td>0.500000</td>\n      <td>0.0</td>\n      <td>0.000000</td>\n    </tr>\n    <tr>\n      <th>50%</th>\n      <td>0.0</td>\n      <td>0.000000</td>\n      <td>0.000000</td>\n      <td>0.000000</td>\n      <td>0.000000</td>\n      <td>0.0</td>\n      <td>0.000000</td>\n      <td>0.000000</td>\n      <td>0.000000</td>\n      <td>0.000000</td>\n      <td>1.000000</td>\n      <td>0.000000</td>\n      <td>0.000000</td>\n      <td>0.000000</td>\n      <td>0.000000</td>\n      <td>0.0</td>\n      <td>1.000000</td>\n      <td>0.0</td>\n      <td>0.000000</td>\n    </tr>\n    <tr>\n      <th>75%</th>\n      <td>0.0</td>\n      <td>0.500000</td>\n      <td>0.500000</td>\n      <td>0.000000</td>\n      <td>0.000000</td>\n      <td>0.0</td>\n      <td>1.000000</td>\n      <td>1.000000</td>\n      <td>0.000000</td>\n      <td>0.000000</td>\n      <td>1.000000</td>\n      <td>0.500000</td>\n      <td>1.000000</td>\n      <td>0.500000</td>\n      <td>0.000000</td>\n      <td>0.0</td>\n      <td>1.000000</td>\n      <td>0.0</td>\n      <td>0.000000</td>\n    </tr>\n    <tr>\n      <th>max</th>\n      <td>0.0</td>\n      <td>1.000000</td>\n      <td>1.000000</td>\n      <td>1.000000</td>\n      <td>1.000000</td>\n      <td>0.0</td>\n      <td>1.000000</td>\n      <td>1.000000</td>\n      <td>1.000000</td>\n      <td>1.000000</td>\n      <td>1.000000</td>\n      <td>1.000000</td>\n      <td>1.000000</td>\n      <td>1.000000</td>\n      <td>1.000000</td>\n      <td>0.0</td>\n      <td>1.000000</td>\n      <td>0.0</td>\n      <td>1.000000</td>\n    </tr>\n  </tbody>\n</table>\n</div>"
     },
     "metadata": {},
     "execution_count": 12
    }
   ],
   "source": [
    "R.describe()"
   ]
  },
  {
   "cell_type": "markdown",
   "metadata": {},
   "source": [
    "### 6. 次元削減 (PCA, NMF)"
   ]
  },
  {
   "cell_type": "code",
   "execution_count": 23,
   "metadata": {},
   "outputs": [
    {
     "output_type": "execute_result",
     "data": {
      "text/plain": "title        Django       test      hoge          asdf         vim基礎  \\\nusername                                                               \nadmin      0.000000   0.000000  0.000000  0.000000e+00  0.000000e+00   \ntest       0.000000   0.000000  0.000000  0.000000e+00  1.435015e+01   \nhoge       0.000000   0.000155  9.470011  0.000000e+00  0.000000e+00   \ntest2      0.000000   0.000000  0.000000  0.000000e+00  0.000000e+00   \ntest3     14.822259   0.000000  0.000000  1.721259e+01  0.000000e+00   \nてすと       35.801831   0.000000  0.000000  9.858090e-09  0.000000e+00   \nてすてす      29.724245  38.918377  0.000000  2.672849e-02  3.715158e-09   \n\ntitle           SQLite   VScode 拡張機能  JavaScirpt 基礎  VScode コマンド       AWS  \\\nusername                                                                     \nadmin     0.000000e+00  0.000000e+00   0.000000e+00     0.000000  0.000000   \ntest      1.864540e-15  1.888367e-15   0.000000e+00     0.000000  0.000000   \nhoge      0.000000e+00  0.000000e+00   0.000000e+00     1.337332  1.311764   \ntest2     0.000000e+00  0.000000e+00   0.000000e+00     0.000000  0.000000   \ntest3     3.730041e-09  0.000000e+00   1.148374e-09     0.000000  0.000000   \nてすと       3.954765e-08  0.000000e+00   5.480970e+00     0.000000  0.000000   \nてすてす      2.212423e+01  1.464517e+01   0.000000e+00     0.000111  0.000000   \n\ntitle        test3      test2     Python  shellでファイル実行  マーケティング 入門（ちきりん\b）  \\\nusername                                                                    \nadmin     0.000000   0.000000   0.000000      0.000000       0.000000e+00   \ntest      0.000000   0.000000  22.098316      0.000000       5.808168e-14   \nhoge      0.000000   0.000000   0.000000      0.000000       0.000000e+00   \ntest2     7.277327   0.000000   0.000000      0.000000       0.000000e+00   \ntest3     0.000000   9.592122   0.000000      3.926022       0.000000e+00   \nてすと       0.000000   0.000000   0.000000      0.000000       0.000000e+00   \nてすてす      0.000000  24.091676   0.000000      0.000000       0.000000e+00   \n\ntitle        推薦システム　入門  Mac ショートカット  Git 基礎 (Mac)  \nusername                                           \nadmin     0.000000e+00          0.0  0.000000e+00  \ntest      0.000000e+00          0.0  0.000000e+00  \nhoge      5.908874e+00          0.0  0.000000e+00  \ntest2     2.783133e-09          0.0  0.000000e+00  \ntest3     0.000000e+00          0.0  4.362072e-10  \nてすと       0.000000e+00          0.0  1.755039e+01  \nてすてす      0.000000e+00          0.0  6.730858e-03  ",
      "text/html": "<div>\n<style scoped>\n    .dataframe tbody tr th:only-of-type {\n        vertical-align: middle;\n    }\n\n    .dataframe tbody tr th {\n        vertical-align: top;\n    }\n\n    .dataframe thead th {\n        text-align: right;\n    }\n</style>\n<table border=\"1\" class=\"dataframe\">\n  <thead>\n    <tr style=\"text-align: right;\">\n      <th>title</th>\n      <th>Django</th>\n      <th>test</th>\n      <th>hoge</th>\n      <th>asdf</th>\n      <th>vim基礎</th>\n      <th>SQLite</th>\n      <th>VScode 拡張機能</th>\n      <th>JavaScirpt 基礎</th>\n      <th>VScode コマンド</th>\n      <th>AWS</th>\n      <th>test3</th>\n      <th>test2</th>\n      <th>Python</th>\n      <th>shellでファイル実行</th>\n      <th>マーケティング 入門（ちきりん\b）</th>\n      <th>推薦システム　入門</th>\n      <th>Mac ショートカット</th>\n      <th>Git 基礎 (Mac)</th>\n    </tr>\n    <tr>\n      <th>username</th>\n      <th></th>\n      <th></th>\n      <th></th>\n      <th></th>\n      <th></th>\n      <th></th>\n      <th></th>\n      <th></th>\n      <th></th>\n      <th></th>\n      <th></th>\n      <th></th>\n      <th></th>\n      <th></th>\n      <th></th>\n      <th></th>\n      <th></th>\n      <th></th>\n    </tr>\n  </thead>\n  <tbody>\n    <tr>\n      <th>admin</th>\n      <td>0.000000</td>\n      <td>0.000000</td>\n      <td>0.000000</td>\n      <td>0.000000e+00</td>\n      <td>0.000000e+00</td>\n      <td>0.000000e+00</td>\n      <td>0.000000e+00</td>\n      <td>0.000000e+00</td>\n      <td>0.000000</td>\n      <td>0.000000</td>\n      <td>0.000000</td>\n      <td>0.000000</td>\n      <td>0.000000</td>\n      <td>0.000000</td>\n      <td>0.000000e+00</td>\n      <td>0.000000e+00</td>\n      <td>0.0</td>\n      <td>0.000000e+00</td>\n    </tr>\n    <tr>\n      <th>test</th>\n      <td>0.000000</td>\n      <td>0.000000</td>\n      <td>0.000000</td>\n      <td>0.000000e+00</td>\n      <td>1.435015e+01</td>\n      <td>1.864540e-15</td>\n      <td>1.888367e-15</td>\n      <td>0.000000e+00</td>\n      <td>0.000000</td>\n      <td>0.000000</td>\n      <td>0.000000</td>\n      <td>0.000000</td>\n      <td>22.098316</td>\n      <td>0.000000</td>\n      <td>5.808168e-14</td>\n      <td>0.000000e+00</td>\n      <td>0.0</td>\n      <td>0.000000e+00</td>\n    </tr>\n    <tr>\n      <th>hoge</th>\n      <td>0.000000</td>\n      <td>0.000155</td>\n      <td>9.470011</td>\n      <td>0.000000e+00</td>\n      <td>0.000000e+00</td>\n      <td>0.000000e+00</td>\n      <td>0.000000e+00</td>\n      <td>0.000000e+00</td>\n      <td>1.337332</td>\n      <td>1.311764</td>\n      <td>0.000000</td>\n      <td>0.000000</td>\n      <td>0.000000</td>\n      <td>0.000000</td>\n      <td>0.000000e+00</td>\n      <td>5.908874e+00</td>\n      <td>0.0</td>\n      <td>0.000000e+00</td>\n    </tr>\n    <tr>\n      <th>test2</th>\n      <td>0.000000</td>\n      <td>0.000000</td>\n      <td>0.000000</td>\n      <td>0.000000e+00</td>\n      <td>0.000000e+00</td>\n      <td>0.000000e+00</td>\n      <td>0.000000e+00</td>\n      <td>0.000000e+00</td>\n      <td>0.000000</td>\n      <td>0.000000</td>\n      <td>7.277327</td>\n      <td>0.000000</td>\n      <td>0.000000</td>\n      <td>0.000000</td>\n      <td>0.000000e+00</td>\n      <td>2.783133e-09</td>\n      <td>0.0</td>\n      <td>0.000000e+00</td>\n    </tr>\n    <tr>\n      <th>test3</th>\n      <td>14.822259</td>\n      <td>0.000000</td>\n      <td>0.000000</td>\n      <td>1.721259e+01</td>\n      <td>0.000000e+00</td>\n      <td>3.730041e-09</td>\n      <td>0.000000e+00</td>\n      <td>1.148374e-09</td>\n      <td>0.000000</td>\n      <td>0.000000</td>\n      <td>0.000000</td>\n      <td>9.592122</td>\n      <td>0.000000</td>\n      <td>3.926022</td>\n      <td>0.000000e+00</td>\n      <td>0.000000e+00</td>\n      <td>0.0</td>\n      <td>4.362072e-10</td>\n    </tr>\n    <tr>\n      <th>てすと</th>\n      <td>35.801831</td>\n      <td>0.000000</td>\n      <td>0.000000</td>\n      <td>9.858090e-09</td>\n      <td>0.000000e+00</td>\n      <td>3.954765e-08</td>\n      <td>0.000000e+00</td>\n      <td>5.480970e+00</td>\n      <td>0.000000</td>\n      <td>0.000000</td>\n      <td>0.000000</td>\n      <td>0.000000</td>\n      <td>0.000000</td>\n      <td>0.000000</td>\n      <td>0.000000e+00</td>\n      <td>0.000000e+00</td>\n      <td>0.0</td>\n      <td>1.755039e+01</td>\n    </tr>\n    <tr>\n      <th>てすてす</th>\n      <td>29.724245</td>\n      <td>38.918377</td>\n      <td>0.000000</td>\n      <td>2.672849e-02</td>\n      <td>3.715158e-09</td>\n      <td>2.212423e+01</td>\n      <td>1.464517e+01</td>\n      <td>0.000000e+00</td>\n      <td>0.000111</td>\n      <td>0.000000</td>\n      <td>0.000000</td>\n      <td>24.091676</td>\n      <td>0.000000</td>\n      <td>0.000000</td>\n      <td>0.000000e+00</td>\n      <td>0.000000e+00</td>\n      <td>0.0</td>\n      <td>6.730858e-03</td>\n    </tr>\n  </tbody>\n</table>\n</div>"
     },
     "metadata": {},
     "execution_count": 23
    }
   ],
   "source": [
    "# NMF\n",
    "k = item_num\n",
    "nmf = NMF(n_components=k, init='random', random_state=42)\n",
    "\n",
    "# columns of R^\n",
    "col = [f'NMF{i}' for i in range(1, (k + 1))]\n",
    "\n",
    "# R^ = W * H\n",
    "W = nmf.fit_transform(R)\n",
    "H = nmf.n_components\n",
    "R_ = pd.DataFrame(np.dot(W, H), index=index, columns=columns)\n",
    "\n",
    "R_"
   ]
  },
  {
   "cell_type": "code",
   "execution_count": 14,
   "metadata": {},
   "outputs": [
    {
     "output_type": "execute_result",
     "data": {
      "text/plain": "False"
     },
     "metadata": {},
     "execution_count": 14
    }
   ],
   "source": [
    "a = R_.loc['admin', 'NMF12']\n",
    "a"
   ]
  },
  {
   "cell_type": "markdown",
   "metadata": {},
   "source": [
    "### 7. 推薦アルゴリズムの作成 (ユーザーベース協調フィルタリング)\n",
    "\n",
    "- 「ユーザベース協調フィルタリング」を用いる"
   ]
  },
  {
   "cell_type": "code",
   "execution_count": 20,
   "metadata": {},
   "outputs": [
    {
     "output_type": "execute_result",
     "data": {
      "text/plain": "title    Django  test  hoge  asdf     vim基礎    SQLite  VScode 拡張機能  \\\ntest   0.566947  0.25   0.0   0.0  0.566947  0.566947         0.25   \n\ntitle  JavaScirpt 基礎  VScode コマンド       AWS     test3    test2   Python  \\\ntest             0.0          0.0  1.144297  0.566947  0.57735  0.82735   \n\ntitle  shellでファイル実行  マーケティング 入門（ちきりん\b）  推薦システム　入門  Mac ショートカット  Git 基礎 (Mac)  \ntest           0.25                0.0   0.566947     0.566947           0.0  ",
      "text/html": "<div>\n<style scoped>\n    .dataframe tbody tr th:only-of-type {\n        vertical-align: middle;\n    }\n\n    .dataframe tbody tr th {\n        vertical-align: top;\n    }\n\n    .dataframe thead th {\n        text-align: right;\n    }\n</style>\n<table border=\"1\" class=\"dataframe\">\n  <thead>\n    <tr style=\"text-align: right;\">\n      <th>title</th>\n      <th>Django</th>\n      <th>test</th>\n      <th>hoge</th>\n      <th>asdf</th>\n      <th>vim基礎</th>\n      <th>SQLite</th>\n      <th>VScode 拡張機能</th>\n      <th>JavaScirpt 基礎</th>\n      <th>VScode コマンド</th>\n      <th>AWS</th>\n      <th>test3</th>\n      <th>test2</th>\n      <th>Python</th>\n      <th>shellでファイル実行</th>\n      <th>マーケティング 入門（ちきりん\b）</th>\n      <th>推薦システム　入門</th>\n      <th>Mac ショートカット</th>\n      <th>Git 基礎 (Mac)</th>\n    </tr>\n  </thead>\n  <tbody>\n    <tr>\n      <th>test</th>\n      <td>0.566947</td>\n      <td>0.25</td>\n      <td>0.0</td>\n      <td>0.0</td>\n      <td>0.566947</td>\n      <td>0.566947</td>\n      <td>0.25</td>\n      <td>0.0</td>\n      <td>0.0</td>\n      <td>1.144297</td>\n      <td>0.566947</td>\n      <td>0.57735</td>\n      <td>0.82735</td>\n      <td>0.25</td>\n      <td>0.0</td>\n      <td>0.566947</td>\n      <td>0.566947</td>\n      <td>0.0</td>\n    </tr>\n  </tbody>\n</table>\n</div>"
     },
     "metadata": {},
     "execution_count": 20
    }
   ],
   "source": [
    "def calc_distance(u_index, u_matrix):\n",
    "    \"\"\"ユーザベース協調フィルタリング\"\"\"\n",
    "\n",
    "    # user_iの評価値ベクトル\n",
    "    pd_type = pd.core.frame.DataFrame\n",
    "    if type(u_matrix) == pd_type:\n",
    "        ratings = u_matrix.iloc[u_index, :]\n",
    "    else:\n",
    "        ratings = u_matrix[u_index]\n",
    "    # 最後の推薦で扱う、i`temと同じ次元数の推薦ベクトルを定義\n",
    "    similarity = np.zeros(len(ratings))\n",
    "\n",
    "    # user_iと、各userの評価値ベクトルからコサイン類似度を求める\n",
    "    for c_index in range(len(u_matrix)):\n",
    "        # user_cの評価値べクトル\n",
    "        if type(u_matrix) == pd_type:\n",
    "            compare_ratings = u_matrix.iloc[c_index, :]\n",
    "        else:\n",
    "            compare_ratings = u_matrix[c_index]\n",
    "        # c_indexがuser_iと同じindexの場合、計算しない\n",
    "        if u_index == c_index:\n",
    "            continue\n",
    "        # コサイン類似度\n",
    "        cosine_simirarity = 1. - cosine(ratings, compare_ratings)\n",
    "        # コサイン類似度をuser_cの評価値ベクトルと掛け合わせる\n",
    "        user_ratings = cosine_simirarity * compare_ratings\n",
    "        # 掛け合わせたモノを推薦ベクトルに足す\n",
    "        similarity += user_ratings\n",
    "    return similarity\n",
    "\n",
    "# model test\n",
    "test_df = calc_distance(0, R)\n",
    "pd.DataFrame(test_df).T"
   ]
  },
  {
   "cell_type": "markdown",
   "metadata": {},
   "source": [
    "### 8. 6、7のモデル評価"
   ]
  },
  {
   "cell_type": "code",
   "execution_count": 16,
   "metadata": {
    "tags": [
     "outputPrepend"
    ]
   },
   "outputs": [
    {
     "output_type": "execute_result",
     "data": {
      "text/plain": "title       Django      test      hoge      asdf  vim基礎    SQLite  \\\nusername                                                            \nadmin     0.000000  0.408248  0.353553  0.316228    0.0  0.353553   \ntest      0.288675  0.288675  0.408248  0.258199    0.0  0.000000   \nhoge      0.288675  0.288675  0.000000  0.000000    0.0  0.000000   \ntest2     0.000000  0.288675  0.000000  0.223607    0.0  0.000000   \ntest3     0.000000  0.288675  0.000000  0.000000    0.0  0.000000   \nてすと       0.000000  0.258199  0.539835  0.000000    0.0  0.223607   \nてすてす      0.000000  0.000000  0.353553  0.223607    0.0  0.000000   \n\ntitle     VScode 拡張機能  JavaScirpt 基礎  VScode コマンド       AWS     test3  \\\nusername                                                                \nadmin        0.000000       0.316228     0.000000  0.000000  0.353553   \ntest         0.000000       0.546874     0.000000  0.288675  0.000000   \nhoge         0.000000       0.000000     0.000000  0.000000  0.000000   \ntest2        0.000000       0.223607     0.000000  0.000000  0.000000   \ntest3        0.288675       0.000000     0.288675  0.000000  0.000000   \nてすと          0.000000       0.223607     0.000000  0.223607  0.223607   \nてすてす         0.000000       0.223607     0.000000  0.000000  0.000000   \n\ntitle        test2    Python  shellでファイル実行  マーケティング 入門（ちきりん\b）  推薦システム　入門  \\\nusername                                                                   \nadmin     0.000000  0.669781      0.000000           0.316228   0.000000   \ntest      0.288675  0.258199      0.288675           0.258199   0.288675   \nhoge      0.000000  0.000000      0.288675           0.000000   0.288675   \ntest2     0.000000  0.223607      0.000000           0.223607   0.000000   \ntest3     0.000000  0.000000      0.000000           0.000000   0.288675   \nてすと       0.223607  0.223607      0.000000           0.000000   0.000000   \nてすてす      0.000000  0.223607      0.000000           0.223607   0.000000   \n\ntitle     Mac ショートカット  Git 基礎 (Mac)  \nusername                             \nadmin        0.408248      0.724476  \ntest         0.288675      0.666447  \nhoge         0.000000      0.000000  \ntest2        0.288675      0.512282  \ntest3        0.288675      0.288675  \nてすと          0.481806      0.574427  \nてすてす         0.000000      0.577160  ",
      "text/html": "<div>\n<style scoped>\n    .dataframe tbody tr th:only-of-type {\n        vertical-align: middle;\n    }\n\n    .dataframe tbody tr th {\n        vertical-align: top;\n    }\n\n    .dataframe thead th {\n        text-align: right;\n    }\n</style>\n<table border=\"1\" class=\"dataframe\">\n  <thead>\n    <tr style=\"text-align: right;\">\n      <th>title</th>\n      <th>Django</th>\n      <th>test</th>\n      <th>hoge</th>\n      <th>asdf</th>\n      <th>vim基礎</th>\n      <th>SQLite</th>\n      <th>VScode 拡張機能</th>\n      <th>JavaScirpt 基礎</th>\n      <th>VScode コマンド</th>\n      <th>AWS</th>\n      <th>test3</th>\n      <th>test2</th>\n      <th>Python</th>\n      <th>shellでファイル実行</th>\n      <th>マーケティング 入門（ちきりん\b）</th>\n      <th>推薦システム　入門</th>\n      <th>Mac ショートカット</th>\n      <th>Git 基礎 (Mac)</th>\n    </tr>\n    <tr>\n      <th>username</th>\n      <th></th>\n      <th></th>\n      <th></th>\n      <th></th>\n      <th></th>\n      <th></th>\n      <th></th>\n      <th></th>\n      <th></th>\n      <th></th>\n      <th></th>\n      <th></th>\n      <th></th>\n      <th></th>\n      <th></th>\n      <th></th>\n      <th></th>\n      <th></th>\n    </tr>\n  </thead>\n  <tbody>\n    <tr>\n      <th>admin</th>\n      <td>0.000000</td>\n      <td>0.408248</td>\n      <td>0.353553</td>\n      <td>0.316228</td>\n      <td>0.0</td>\n      <td>0.353553</td>\n      <td>0.000000</td>\n      <td>0.316228</td>\n      <td>0.000000</td>\n      <td>0.000000</td>\n      <td>0.353553</td>\n      <td>0.000000</td>\n      <td>0.669781</td>\n      <td>0.000000</td>\n      <td>0.316228</td>\n      <td>0.000000</td>\n      <td>0.408248</td>\n      <td>0.724476</td>\n    </tr>\n    <tr>\n      <th>test</th>\n      <td>0.288675</td>\n      <td>0.288675</td>\n      <td>0.408248</td>\n      <td>0.258199</td>\n      <td>0.0</td>\n      <td>0.000000</td>\n      <td>0.000000</td>\n      <td>0.546874</td>\n      <td>0.000000</td>\n      <td>0.288675</td>\n      <td>0.000000</td>\n      <td>0.288675</td>\n      <td>0.258199</td>\n      <td>0.288675</td>\n      <td>0.258199</td>\n      <td>0.288675</td>\n      <td>0.288675</td>\n      <td>0.666447</td>\n    </tr>\n    <tr>\n      <th>hoge</th>\n      <td>0.288675</td>\n      <td>0.288675</td>\n      <td>0.000000</td>\n      <td>0.000000</td>\n      <td>0.0</td>\n      <td>0.000000</td>\n      <td>0.000000</td>\n      <td>0.000000</td>\n      <td>0.000000</td>\n      <td>0.000000</td>\n      <td>0.000000</td>\n      <td>0.000000</td>\n      <td>0.000000</td>\n      <td>0.288675</td>\n      <td>0.000000</td>\n      <td>0.288675</td>\n      <td>0.000000</td>\n      <td>0.000000</td>\n    </tr>\n    <tr>\n      <th>test2</th>\n      <td>0.000000</td>\n      <td>0.288675</td>\n      <td>0.000000</td>\n      <td>0.223607</td>\n      <td>0.0</td>\n      <td>0.000000</td>\n      <td>0.000000</td>\n      <td>0.223607</td>\n      <td>0.000000</td>\n      <td>0.000000</td>\n      <td>0.000000</td>\n      <td>0.000000</td>\n      <td>0.223607</td>\n      <td>0.000000</td>\n      <td>0.223607</td>\n      <td>0.000000</td>\n      <td>0.288675</td>\n      <td>0.512282</td>\n    </tr>\n    <tr>\n      <th>test3</th>\n      <td>0.000000</td>\n      <td>0.288675</td>\n      <td>0.000000</td>\n      <td>0.000000</td>\n      <td>0.0</td>\n      <td>0.000000</td>\n      <td>0.288675</td>\n      <td>0.000000</td>\n      <td>0.288675</td>\n      <td>0.000000</td>\n      <td>0.000000</td>\n      <td>0.000000</td>\n      <td>0.000000</td>\n      <td>0.000000</td>\n      <td>0.000000</td>\n      <td>0.288675</td>\n      <td>0.288675</td>\n      <td>0.288675</td>\n    </tr>\n    <tr>\n      <th>てすと</th>\n      <td>0.000000</td>\n      <td>0.258199</td>\n      <td>0.539835</td>\n      <td>0.000000</td>\n      <td>0.0</td>\n      <td>0.223607</td>\n      <td>0.000000</td>\n      <td>0.223607</td>\n      <td>0.000000</td>\n      <td>0.223607</td>\n      <td>0.223607</td>\n      <td>0.223607</td>\n      <td>0.223607</td>\n      <td>0.000000</td>\n      <td>0.000000</td>\n      <td>0.000000</td>\n      <td>0.481806</td>\n      <td>0.574427</td>\n    </tr>\n    <tr>\n      <th>てすてす</th>\n      <td>0.000000</td>\n      <td>0.000000</td>\n      <td>0.353553</td>\n      <td>0.223607</td>\n      <td>0.0</td>\n      <td>0.000000</td>\n      <td>0.000000</td>\n      <td>0.223607</td>\n      <td>0.000000</td>\n      <td>0.000000</td>\n      <td>0.000000</td>\n      <td>0.000000</td>\n      <td>0.223607</td>\n      <td>0.000000</td>\n      <td>0.223607</td>\n      <td>0.000000</td>\n      <td>0.000000</td>\n      <td>0.577160</td>\n    </tr>\n  </tbody>\n</table>\n</div>"
     },
     "metadata": {},
     "execution_count": 16
    }
   ],
   "source": [
    "# check model\n",
    "R_ = []\n",
    "\n",
    "r = calc_distance(0, R)\n",
    "\n",
    "for i in range(len(R)):\n",
    "    R_.append(calc_distance(i, R))\n",
    "\n",
    "# columns\n",
    "col = [f'NMF{i}' for i in range(1, len(item_num + 1))]\n",
    "\n",
    "# DataFrame\n",
    "pd.DataFrame(R_, index=index, columns=col)"
   ]
  },
  {
   "cell_type": "markdown",
   "metadata": {},
   "source": [
    "### 9. 推薦モデルをpickleでオブジェクト化し、Djangoに組み込む"
   ]
  }
 ],
 "metadata": {
  "language_info": {
   "codemirror_mode": {
    "name": "ipython",
    "version": 3
   },
   "file_extension": ".py",
   "mimetype": "text/x-python",
   "name": "python",
   "nbconvert_exporter": "python",
   "pygments_lexer": "ipython3",
   "version": 3
  },
  "orig_nbformat": 2,
  "kernelspec": {
   "name": "python_defaultSpec_1601025223548",
   "display_name": "Python 3.8.2 64-bit ('hoby-py': venv)"
  }
 },
 "nbformat": 4,
 "nbformat_minor": 2
}