{
 "cells": [
  {
   "cell_type": "markdown",
   "metadata": {},
   "source": [
    "# 推薦システム\n",
    "このファイルは、ユーザーに合わせて好みの単語帳を予測し、各ユーザーへ推薦を行うためのモジュールです。\n",
    "推薦アルゴリズムは、古典的な手法の「協調フィルタリング」を実装します（オフライン）。\n",
    "\n",
    "## 手順\n",
    "1. 各種ライブラリのimport\n",
    "2. DBの接続\n",
    "3. userテーブル取得\n",
    "4. wordbookテーブル取得\n",
    "5. 評価値行列の作成\n",
    "6. 推薦アルゴリズムの作成 (ユーザーベース協調フィルタリング)\n",
    "7. 次元削減 (PCA, NMF)\n",
    "8. 6、7のモデル評価\n",
    "9. 推薦モデルをpickleでオブジェクト化し、Djangoniへ組み込む\n",
    "\n",
    "※ 一般的に3~6を「前処理」、7~8は「機械学習」と呼びます。"
   ]
  },
  {
   "cell_type": "markdown",
   "metadata": {},
   "source": [
    "### 1. 各種ライブラリのimport"
   ]
  },
  {
   "cell_type": "code",
   "execution_count": 1,
   "metadata": {},
   "outputs": [],
   "source": [
    "import os\n",
    "import sqlite3\n",
    "import psycopg2\n",
    "import pickle\n",
    "# recommender\n",
    "import numpy as np\n",
    "from scipy.spatial.distance import cosine\n",
    "import pandas as pd\n",
    "from sklearn.decomposition import PCA, NMF"
   ]
  },
  {
   "cell_type": "markdown",
   "metadata": {},
   "source": [
    "### 2. DBの接続"
   ]
  },
  {
   "cell_type": "code",
   "execution_count": 12,
   "metadata": {},
   "outputs": [],
   "source": [
    "# working directory path\n",
    "working_dir = os.path.abspath('__file__')\n",
    "\n",
    "# project directory path\n",
    "project_dir = os.path.dirname \\\n",
    "    (os.path.dirname(os.path.dirname(working_dir)))\n",
    "\n",
    "# db path\n",
    "db_path = os.path.join(project_dir, 'db.sqlite3')\n",
    "\n",
    "# connect db\n",
    "if 'db.sqlite3' in os.listdir(project_dir):\n",
    "    con = sqlite3.connect(db_path)  # sqlite3\n",
    "else:\n",
    "    con = psycopg2.connect(dbname='wordbook')  # PostgreSQL"
   ]
  },
  {
   "cell_type": "markdown",
   "metadata": {},
   "source": [
    "### 3. userテーブル取得"
   ]
  },
  {
   "cell_type": "code",
   "execution_count": 13,
   "metadata": {},
   "outputs": [
    {
     "output_type": "execute_result",
     "data": {
      "text/plain": "0    admin\n1     test\n2     hoge\n3    test2\n4    test3\n5      てすと\n6     てすてす\nName: username, dtype: object"
     },
     "metadata": {},
     "execution_count": 13
    }
   ],
   "source": [
    "# user\n",
    "q_user = '''\n",
    "SELECT\n",
    "    *\n",
    "FROM\n",
    "    user AS u\n",
    "'''\n",
    "\n",
    "# user DataFrame\n",
    "user = pd.read_sql(q_user, con)\n",
    "\n",
    "# index\n",
    "index = user['username']\n",
    "\n",
    "index"
   ]
  },
  {
   "cell_type": "markdown",
   "metadata": {},
   "source": [
    "### 4. wordbookテーブル取得"
   ]
  },
  {
   "cell_type": "code",
   "execution_count": 14,
   "metadata": {},
   "outputs": [
    {
     "output_type": "execute_result",
     "data": {
      "text/plain": "0                Django\n1                  test\n2                  hoge\n3                  asdf\n4                 vim基礎\n5                SQLite\n6           VScode 拡張機能\n7         JavaScirpt 基礎\n8           VScode コマンド\n9                   AWS\n10                test3\n11                test2\n12               Python\n13         shellでファイル実行\n14    マーケティング 入門（ちきりん\b）\n15            推薦システム　入門\n16          Mac ショートカット\nName: title, dtype: object"
     },
     "metadata": {},
     "execution_count": 14
    }
   ],
   "source": [
    "# wordbook\n",
    "q_wordbook = '''\n",
    "SELECT\n",
    "    *\n",
    "FROM\n",
    "    note AS n\n",
    "'''\n",
    "\n",
    "# wordbook DataFrame\n",
    "wordbook = pd.read_sql(q_wordbook, con)\n",
    "\n",
    "# columns\n",
    "columns = wordbook['title']\n",
    "\n",
    "columns"
   ]
  },
  {
   "cell_type": "markdown",
   "metadata": {},
   "source": [
    "### 5. 評価値行列の作成"
   ]
  },
  {
   "cell_type": "code",
   "execution_count": null,
   "metadata": {},
   "outputs": [],
   "source": [
    "\n",
    "U = '''\n",
    "SELECT\n",
    "    u.username\n",
    "FROM\n",
    "    user AS u\n",
    "    INNER JOIN (\n",
    "        SELECT\n",
    "            *\n",
    "        FROM\n",
    "            star AS s\n",
    "            INNER JOIN\n",
    "                note AS n\n",
    "                ON s.note_id == n.id\n",
    "        ) AS s\n",
    "        ON u.id == s.user_id\n",
    "'''\n",
    "\n",
    "V = '''\n",
    "SELECT\n",
    "    n.title\n",
    "    , CASE WHEN \n",
    "FROM\n",
    "    note AS n\n",
    "    INNER JOIN\n",
    "        star AS s\n",
    "        ON n.id == s.note_id\n",
    "'''\n",
    "\n",
    "# DataFrame\n",
    "# R = pd.read_sql(rating_matrix, con, index=index, columns=columns)\n",
    "\n",
    "# df"
   ]
  },
  {
   "cell_type": "markdown",
   "metadata": {},
   "source": [
    "### コサイン類似度"
   ]
  },
  {
   "cell_type": "code",
   "execution_count": null,
   "metadata": {},
   "outputs": [],
   "source": [
    "def calc_distance(u_index, u_matrix):\n",
    "    \"\"\"ユーザベース協調フィルタリング\"\"\"\n",
    "\n",
    "    # user_iの評価値ベクトル\n",
    "    pd_type = pd.core.frame.DataFrame\n",
    "    if type(u_matrix) == pd_type:\n",
    "        ratings = u_matrix.iloc[u_index, :]\n",
    "    else:\n",
    "        ratings = u_matrix[u_index]\n",
    "    # 最後の推薦で扱う、i`temと同じ次元数の推薦ベクトルを定義\n",
    "    similarity = np.zeros(len(ratings))\n",
    "\n",
    "    # user_iと、各userの評価値ベクトルからコサイン類似度を求める\n",
    "    for c_index in range(len(u_matrix)):\n",
    "        # user_cの評価値べクトル\n",
    "        if type(u_matrix) == pd_type:\n",
    "            compare_ratings = u_matrix.iloc[c_index, :]\n",
    "        else:\n",
    "            compare_ratings = u_matrix[c_index]\n",
    "        # c_indexがuser_iと同じindexの場合、計算しない\n",
    "        if u_index == c_index:\n",
    "            continue\n",
    "        # コサイン類似度\n",
    "        cosine_simirarity = 1. - cosine(ratings, compare_ratings)\n",
    "        # コサイン類似度をuser_cの評価値ベクトルと掛け合わせる\n",
    "        user_ratings = cosine_simirarity * compare_ratings\n",
    "        # 掛け合わせたモノを推薦ベクトルに足す\n",
    "        similarity += user_ratings\n",
    "    return similarity"
   ]
  }
 ],
 "metadata": {
  "language_info": {
   "codemirror_mode": {
    "name": "ipython",
    "version": 3
   },
   "file_extension": ".py",
   "mimetype": "text/x-python",
   "name": "python",
   "nbconvert_exporter": "python",
   "pygments_lexer": "ipython3",
   "version": 3
  },
  "orig_nbformat": 2,
  "kernelspec": {
   "name": "python_defaultSpec_1600352012975",
   "display_name": "Python 3.8.2 64-bit ('hoby-py': venv)"
  }
 },
 "nbformat": 4,
 "nbformat_minor": 2
}